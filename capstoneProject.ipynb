{
  "nbformat": 4,
  "nbformat_minor": 0,
  "metadata": {
    "colab": {
      "name": "capstoneProject.ipynb",
      "provenance": []
    },
    "kernelspec": {
      "name": "python3",
      "display_name": "Python 3"
    }
  },
  "cells": [
    {
      "cell_type": "markdown",
      "metadata": {
        "id": "qJsRXLI7LJV0"
      },
      "source": [
        "**Applied Data Science Capstone Project**"
      ]
    },
    {
      "cell_type": "code",
      "metadata": {
        "id": "UWI1XtcgK22K"
      },
      "source": [
        "# Data\n",
        "import pandas as pd\n",
        "import numpy as np\n",
        "\n",
        "# Plots\n",
        "%matplotlib inline \n",
        "import matplotlib as mpl\n",
        "import matplotlib.pyplot as plt"
      ],
      "execution_count": 92,
      "outputs": []
    },
    {
      "cell_type": "markdown",
      "metadata": {
        "id": "byBBdcqDcdAr"
      },
      "source": [
        "**Import Libraries**"
      ]
    },
    {
      "cell_type": "code",
      "metadata": {
        "id": "6cL0vupfItJ9",
        "outputId": "3efef0fd-e4a5-453c-9251-5d1297674c4a",
        "colab": {
          "base_uri": "https://localhost:8080/",
          "height": 238
        }
      },
      "source": [
        "# Import data\n",
        "df = pd.read_csv(\"Data-Collisions.csv\")\n",
        "df = df[['WEATHER', 'ROADCOND', 'LIGHTCOND', 'UNDERINFL', 'ADDRTYPE', 'SEVERITYCODE']]\n",
        "df.head()"
      ],
      "execution_count": 93,
      "outputs": [
        {
          "output_type": "stream",
          "text": [
            "/usr/local/lib/python3.6/dist-packages/IPython/core/interactiveshell.py:2718: DtypeWarning: Columns (33) have mixed types.Specify dtype option on import or set low_memory=False.\n",
            "  interactivity=interactivity, compiler=compiler, result=result)\n"
          ],
          "name": "stderr"
        },
        {
          "output_type": "execute_result",
          "data": {
            "text/html": [
              "<div>\n",
              "<style scoped>\n",
              "    .dataframe tbody tr th:only-of-type {\n",
              "        vertical-align: middle;\n",
              "    }\n",
              "\n",
              "    .dataframe tbody tr th {\n",
              "        vertical-align: top;\n",
              "    }\n",
              "\n",
              "    .dataframe thead th {\n",
              "        text-align: right;\n",
              "    }\n",
              "</style>\n",
              "<table border=\"1\" class=\"dataframe\">\n",
              "  <thead>\n",
              "    <tr style=\"text-align: right;\">\n",
              "      <th></th>\n",
              "      <th>WEATHER</th>\n",
              "      <th>ROADCOND</th>\n",
              "      <th>LIGHTCOND</th>\n",
              "      <th>UNDERINFL</th>\n",
              "      <th>ADDRTYPE</th>\n",
              "      <th>SEVERITYCODE</th>\n",
              "    </tr>\n",
              "  </thead>\n",
              "  <tbody>\n",
              "    <tr>\n",
              "      <th>0</th>\n",
              "      <td>Overcast</td>\n",
              "      <td>Wet</td>\n",
              "      <td>Daylight</td>\n",
              "      <td>N</td>\n",
              "      <td>Intersection</td>\n",
              "      <td>2</td>\n",
              "    </tr>\n",
              "    <tr>\n",
              "      <th>1</th>\n",
              "      <td>Raining</td>\n",
              "      <td>Wet</td>\n",
              "      <td>Dark - Street Lights On</td>\n",
              "      <td>0</td>\n",
              "      <td>Block</td>\n",
              "      <td>1</td>\n",
              "    </tr>\n",
              "    <tr>\n",
              "      <th>2</th>\n",
              "      <td>Overcast</td>\n",
              "      <td>Dry</td>\n",
              "      <td>Daylight</td>\n",
              "      <td>0</td>\n",
              "      <td>Block</td>\n",
              "      <td>1</td>\n",
              "    </tr>\n",
              "    <tr>\n",
              "      <th>3</th>\n",
              "      <td>Clear</td>\n",
              "      <td>Dry</td>\n",
              "      <td>Daylight</td>\n",
              "      <td>N</td>\n",
              "      <td>Block</td>\n",
              "      <td>1</td>\n",
              "    </tr>\n",
              "    <tr>\n",
              "      <th>4</th>\n",
              "      <td>Raining</td>\n",
              "      <td>Wet</td>\n",
              "      <td>Daylight</td>\n",
              "      <td>0</td>\n",
              "      <td>Intersection</td>\n",
              "      <td>2</td>\n",
              "    </tr>\n",
              "  </tbody>\n",
              "</table>\n",
              "</div>"
            ],
            "text/plain": [
              "    WEATHER ROADCOND  ...      ADDRTYPE SEVERITYCODE\n",
              "0  Overcast      Wet  ...  Intersection            2\n",
              "1   Raining      Wet  ...         Block            1\n",
              "2  Overcast      Dry  ...         Block            1\n",
              "3     Clear      Dry  ...         Block            1\n",
              "4   Raining      Wet  ...  Intersection            2\n",
              "\n",
              "[5 rows x 6 columns]"
            ]
          },
          "metadata": {
            "tags": []
          },
          "execution_count": 93
        }
      ]
    },
    {
      "cell_type": "markdown",
      "metadata": {
        "id": "p5rLiwiLci_L"
      },
      "source": [
        "**Data cleaning**"
      ]
    },
    {
      "cell_type": "code",
      "metadata": {
        "id": "_N5OFrU7YNWd",
        "outputId": "860d56e5-e61c-4b81-f427-935df5c45c06",
        "colab": {
          "base_uri": "https://localhost:8080/",
          "height": 136
        }
      },
      "source": [
        "df.dtypes"
      ],
      "execution_count": 106,
      "outputs": [
        {
          "output_type": "execute_result",
          "data": {
            "text/plain": [
              "WEATHER          int8\n",
              "ROADCOND         int8\n",
              "LIGHTCOND        int8\n",
              "UNDERINFL        int8\n",
              "ADDRTYPE         int8\n",
              "SEVERITYCODE    int64\n",
              "dtype: object"
            ]
          },
          "metadata": {
            "tags": []
          },
          "execution_count": 106
        }
      ]
    },
    {
      "cell_type": "code",
      "metadata": {
        "id": "D72dZdQBYL-Z"
      },
      "source": [
        "# Replace NaN data\n",
        "df[\"WEATHER\"].replace(np.nan, df[\"WEATHER\"].mode().iloc[0], inplace=True)\n",
        "df[\"ROADCOND\"].replace(np.nan, df[\"ROADCOND\"].mode().iloc[0], inplace=True)\n",
        "df[\"LIGHTCOND\"].replace(np.nan, df[\"LIGHTCOND\"].mode().iloc[0], inplace=True)\n",
        "df[\"UNDERINFL\"].replace(np.nan, df[\"UNDERINFL\"].mode().iloc[0], inplace=True)\n",
        "df[\"ADDRTYPE\"].replace(np.nan, df[\"ADDRTYPE\"].mode().iloc[0], inplace=True)"
      ],
      "execution_count": 95,
      "outputs": []
    },
    {
      "cell_type": "markdown",
      "metadata": {
        "id": "76m9LReMcths"
      },
      "source": [
        "**Data visualization**"
      ]
    },
    {
      "cell_type": "code",
      "metadata": {
        "id": "JEp7879KI_fU",
        "outputId": "62c85d97-997e-4a88-9ccb-d1124afc961b",
        "colab": {
          "base_uri": "https://localhost:8080/",
          "height": 867
        }
      },
      "source": [
        "#Group by WEATHER\n",
        "df_wh = df.groupby(by=['WEATHER'])['WEATHER'].count().to_frame()\n",
        "df_wh.columns = ['COUNT']\n",
        "df_wh = df_wh.sort_values('COUNT', ascending=False)\n",
        "print (df_wh)\n",
        "\n",
        "#Group by ROADCOND\n",
        "df_rc = df.groupby(by=['ROADCOND'])['ROADCOND'].count().to_frame()\n",
        "df_rc.columns = ['COUNT']\n",
        "df_rc = df_rc.sort_values('COUNT', ascending=False)\n",
        "print (df_rc)\n",
        "\n",
        "#Group by LIGHTCOND\n",
        "df_lc = df.groupby(by=['LIGHTCOND'])['LIGHTCOND'].count().to_frame()\n",
        "df_lc.columns = ['COUNT']\n",
        "df_lc = df_lc.sort_values('COUNT', ascending=False)\n",
        "print (df_lc)\n",
        "\n",
        "#Group by UNDERINFL\n",
        "df_ui = df.groupby(by=['UNDERINFL'])['UNDERINFL'].count().to_frame()\n",
        "df_ui.columns = ['COUNT']\n",
        "df_ui = df_ui.sort_values('COUNT', ascending=False)\n",
        "print (df_ui)\n",
        "\n",
        "#Group by ADDRTYPE\n",
        "df_at = df.groupby(by=['ADDRTYPE'])['ADDRTYPE'].count().to_frame()\n",
        "df_at.columns = ['COUNT']\n",
        "df_at = df_at.sort_values('COUNT', ascending=False)\n",
        "print (df_at)\n",
        "\n",
        "#Group by SEVERITYCODE\n",
        "df_st = df.groupby(by=['SEVERITYCODE'])['SEVERITYCODE'].count().to_frame()\n",
        "df_st.columns = ['COUNT']\n",
        "df_st = df_st.sort_values('COUNT', ascending=False)\n",
        "print (df_st)\n"
      ],
      "execution_count": 96,
      "outputs": [
        {
          "output_type": "stream",
          "text": [
            "                           COUNT\n",
            "WEATHER                         \n",
            "Clear                     116216\n",
            "Raining                    33145\n",
            "Overcast                   27714\n",
            "Unknown                    15091\n",
            "Snowing                      907\n",
            "Other                        832\n",
            "Fog/Smog/Smoke               569\n",
            "Sleet/Hail/Freezing Rain     113\n",
            "Blowing Sand/Dirt             56\n",
            "Severe Crosswind              25\n",
            "Partly Cloudy                  5\n",
            "                 COUNT\n",
            "ROADCOND              \n",
            "Dry             129522\n",
            "Wet              47474\n",
            "Unknown          15078\n",
            "Ice               1209\n",
            "Snow/Slush        1004\n",
            "Other              132\n",
            "Standing Water     115\n",
            "Sand/Mud/Dirt       75\n",
            "Oil                 64\n",
            "                           COUNT\n",
            "LIGHTCOND                       \n",
            "Daylight                  121307\n",
            "Dark - Street Lights On    48507\n",
            "Unknown                    13473\n",
            "Dusk                        5902\n",
            "Dawn                        2502\n",
            "Dark - No Street Lights     1537\n",
            "Dark - Street Lights Off    1199\n",
            "Other                        235\n",
            "Dark - Unknown Lighting       11\n",
            "            COUNT\n",
            "UNDERINFL        \n",
            "N          105158\n",
            "0           80394\n",
            "Y            5126\n",
            "1            3995\n",
            "               COUNT\n",
            "ADDRTYPE            \n",
            "Block         128852\n",
            "Intersection   65070\n",
            "Alley            751\n",
            "               COUNT\n",
            "SEVERITYCODE        \n",
            "1             136485\n",
            "2              58188\n"
          ],
          "name": "stdout"
        }
      ]
    },
    {
      "cell_type": "code",
      "metadata": {
        "id": "1-O0xCM-OqRC",
        "outputId": "c02088db-fe2c-4e32-8861-8b146508a18f",
        "colab": {
          "base_uri": "https://localhost:8080/",
          "height": 1000
        }
      },
      "source": [
        "#Plot severitycode\n",
        "df_wh.plot(kind='bar', figsize=(10, 6), legend=None, color='bg')\n",
        "plt.xlabel('WEATHER') # add to x-label to the plot\n",
        "plt.ylabel('COUNT') # add y-label to the plot\n",
        "plt.show()\n",
        "\n",
        "#Plot severitycode\n",
        "df_rc.plot(kind='bar', figsize=(10, 6), legend=None, color='bg')\n",
        "plt.xlabel('ROADCOND') # add to x-label to the plot\n",
        "plt.ylabel('COUNT') # add y-label to the plot\n",
        "plt.show()\n",
        "\n",
        "#Plot severitycode\n",
        "df_lc.plot(kind='bar', figsize=(10, 6), legend=None, color='bg')\n",
        "plt.xlabel('LIGHTCOND') # add to x-label to the plot\n",
        "plt.ylabel('COUNT') # add y-label to the plot\n",
        "plt.show()\n",
        "\n",
        "#Plot severitycode\n",
        "df_at.plot(kind='bar', figsize=(10, 6), legend=None, color='bg')\n",
        "plt.xlabel('ADDRTYPE') # add to x-label to the plot\n",
        "plt.ylabel('COUNT') # add y-label to the plot\n",
        "plt.show()\n",
        "\n",
        "#Plot severitycode\n",
        "df_st.plot(kind='bar', figsize=(10, 6), legend=None, color='bg')\n",
        "plt.xlabel('SEVERITYCODE') # add to x-label to the plot\n",
        "plt.ylabel('COUNT') # add y-label to the plot\n",
        "plt.show()"
      ],
      "execution_count": 97,
      "outputs": [
        {
          "output_type": "stream",
          "text": [
            "/usr/local/lib/python3.6/dist-packages/pandas/plotting/_matplotlib/core.py:1373: MatplotlibDeprecationWarning: Using a string of single character colors as a color sequence is deprecated. Use an explicit list instead.\n",
            "  return ax.bar(x, y, w, bottom=start, log=log, **kwds)\n"
          ],
          "name": "stderr"
        },
        {
          "output_type": "display_data",
          "data": {
            "image/png": "[encoded data removed]",
            "text/plain": [
              "<Figure size 720x432 with 1 Axes>"
            ]
          },
          "metadata": {
            "tags": [],
            "needs_background": "light"
          }
        },
        {
          "output_type": "display_data",
          "data": {
            "image/png": "[encoded data removed]",
            "text/plain": [
              "<Figure size 720x432 with 1 Axes>"
            ]
          },
          "metadata": {
            "tags": [],
            "needs_background": "light"
          }
        },
        {
          "output_type": "display_data",
          "data": {
            "image/png": "[encoded data removed]",
            "text/plain": [
              "<Figure size 720x432 with 1 Axes>"
            ]
          },
          "metadata": {
            "tags": [],
            "needs_background": "light"
          }
        },
        {
          "output_type": "display_data",
          "data": {
            "image/png": "[encoded data removed]",
            "text/plain": [
              "<Figure size 720x432 with 1 Axes>"
            ]
          },
          "metadata": {
            "tags": [],
            "needs_background": "light"
          }
        },
        {
          "output_type": "display_data",
          "data": {
            "image/png": "[encoded data removed]",
            "text/plain": [
              "<Figure size 720x432 with 1 Axes>"
            ]
          },
          "metadata": {
            "tags": [],
            "needs_background": "light"
          }
        }
      ]
    },
    {
      "cell_type": "markdown",
      "metadata": {
        "id": "WxsYDKrVbRyi"
      },
      "source": [
        "**Data pre-processing and selection**"
      ]
    },
    {
      "cell_type": "code",
      "metadata": {
        "id": "zeq5f0MiX7Wv",
        "outputId": "9fa788f8-5216-4af6-ba3e-78076a7db9e1",
        "colab": {
          "base_uri": "https://localhost:8080/",
          "height": 419
        }
      },
      "source": [
        "# Encode categorical variables\n",
        "df['WEATHER']=df['WEATHER'].astype('category').cat.codes\n",
        "df['ROADCOND']=df['ROADCOND'].astype('category').cat.codes\n",
        "df['LIGHTCOND']=df['LIGHTCOND'].astype('category').cat.codes\n",
        "df['UNDERINFL']=df['UNDERINFL'].astype('category').cat.codes\n",
        "df['ADDRTYPE']=df['ADDRTYPE'].astype('category').cat.codes\n",
        "df"
      ],
      "execution_count": 98,
      "outputs": [
        {
          "output_type": "execute_result",
          "data": {
            "text/html": [
              "<div>\n",
              "<style scoped>\n",
              "    .dataframe tbody tr th:only-of-type {\n",
              "        vertical-align: middle;\n",
              "    }\n",
              "\n",
              "    .dataframe tbody tr th {\n",
              "        vertical-align: top;\n",
              "    }\n",
              "\n",
              "    .dataframe thead th {\n",
              "        text-align: right;\n",
              "    }\n",
              "</style>\n",
              "<table border=\"1\" class=\"dataframe\">\n",
              "  <thead>\n",
              "    <tr style=\"text-align: right;\">\n",
              "      <th></th>\n",
              "      <th>WEATHER</th>\n",
              "      <th>ROADCOND</th>\n",
              "      <th>LIGHTCOND</th>\n",
              "      <th>UNDERINFL</th>\n",
              "      <th>ADDRTYPE</th>\n",
              "      <th>SEVERITYCODE</th>\n",
              "    </tr>\n",
              "  </thead>\n",
              "  <tbody>\n",
              "    <tr>\n",
              "      <th>0</th>\n",
              "      <td>4</td>\n",
              "      <td>8</td>\n",
              "      <td>5</td>\n",
              "      <td>2</td>\n",
              "      <td>2</td>\n",
              "      <td>2</td>\n",
              "    </tr>\n",
              "    <tr>\n",
              "      <th>1</th>\n",
              "      <td>6</td>\n",
              "      <td>8</td>\n",
              "      <td>2</td>\n",
              "      <td>0</td>\n",
              "      <td>1</td>\n",
              "      <td>1</td>\n",
              "    </tr>\n",
              "    <tr>\n",
              "      <th>2</th>\n",
              "      <td>4</td>\n",
              "      <td>0</td>\n",
              "      <td>5</td>\n",
              "      <td>0</td>\n",
              "      <td>1</td>\n",
              "      <td>1</td>\n",
              "    </tr>\n",
              "    <tr>\n",
              "      <th>3</th>\n",
              "      <td>1</td>\n",
              "      <td>0</td>\n",
              "      <td>5</td>\n",
              "      <td>2</td>\n",
              "      <td>1</td>\n",
              "      <td>1</td>\n",
              "    </tr>\n",
              "    <tr>\n",
              "      <th>4</th>\n",
              "      <td>6</td>\n",
              "      <td>8</td>\n",
              "      <td>5</td>\n",
              "      <td>0</td>\n",
              "      <td>2</td>\n",
              "      <td>2</td>\n",
              "    </tr>\n",
              "    <tr>\n",
              "      <th>...</th>\n",
              "      <td>...</td>\n",
              "      <td>...</td>\n",
              "      <td>...</td>\n",
              "      <td>...</td>\n",
              "      <td>...</td>\n",
              "      <td>...</td>\n",
              "    </tr>\n",
              "    <tr>\n",
              "      <th>194668</th>\n",
              "      <td>1</td>\n",
              "      <td>0</td>\n",
              "      <td>5</td>\n",
              "      <td>2</td>\n",
              "      <td>1</td>\n",
              "      <td>2</td>\n",
              "    </tr>\n",
              "    <tr>\n",
              "      <th>194669</th>\n",
              "      <td>6</td>\n",
              "      <td>8</td>\n",
              "      <td>5</td>\n",
              "      <td>2</td>\n",
              "      <td>1</td>\n",
              "      <td>1</td>\n",
              "    </tr>\n",
              "    <tr>\n",
              "      <th>194670</th>\n",
              "      <td>1</td>\n",
              "      <td>0</td>\n",
              "      <td>5</td>\n",
              "      <td>2</td>\n",
              "      <td>2</td>\n",
              "      <td>2</td>\n",
              "    </tr>\n",
              "    <tr>\n",
              "      <th>194671</th>\n",
              "      <td>1</td>\n",
              "      <td>0</td>\n",
              "      <td>6</td>\n",
              "      <td>2</td>\n",
              "      <td>2</td>\n",
              "      <td>2</td>\n",
              "    </tr>\n",
              "    <tr>\n",
              "      <th>194672</th>\n",
              "      <td>1</td>\n",
              "      <td>8</td>\n",
              "      <td>5</td>\n",
              "      <td>2</td>\n",
              "      <td>1</td>\n",
              "      <td>1</td>\n",
              "    </tr>\n",
              "  </tbody>\n",
              "</table>\n",
              "<p>194673 rows × 6 columns</p>\n",
              "</div>"
            ],
            "text/plain": [
              "        WEATHER  ROADCOND  LIGHTCOND  UNDERINFL  ADDRTYPE  SEVERITYCODE\n",
              "0             4         8          5          2         2             2\n",
              "1             6         8          2          0         1             1\n",
              "2             4         0          5          0         1             1\n",
              "3             1         0          5          2         1             1\n",
              "4             6         8          5          0         2             2\n",
              "...         ...       ...        ...        ...       ...           ...\n",
              "194668        1         0          5          2         1             2\n",
              "194669        6         8          5          2         1             1\n",
              "194670        1         0          5          2         2             2\n",
              "194671        1         0          6          2         2             2\n",
              "194672        1         8          5          2         1             1\n",
              "\n",
              "[194673 rows x 6 columns]"
            ]
          },
          "metadata": {
            "tags": []
          },
          "execution_count": 98
        }
      ]
    },
    {
      "cell_type": "code",
      "metadata": {
        "id": "uHEyMNSga4tu",
        "outputId": "f1664ad8-b04f-4bad-8e0d-d67e81cc6fbf",
        "colab": {
          "base_uri": "https://localhost:8080/",
          "height": 136
        }
      },
      "source": [
        "df.dtypes"
      ],
      "execution_count": 99,
      "outputs": [
        {
          "output_type": "execute_result",
          "data": {
            "text/plain": [
              "WEATHER          int8\n",
              "ROADCOND         int8\n",
              "LIGHTCOND        int8\n",
              "UNDERINFL        int8\n",
              "ADDRTYPE         int8\n",
              "SEVERITYCODE    int64\n",
              "dtype: object"
            ]
          },
          "metadata": {
            "tags": []
          },
          "execution_count": 99
        }
      ]
    },
    {
      "cell_type": "code",
      "metadata": {
        "id": "Yv0P5AgnXKcl",
        "outputId": "94b8456c-2796-4595-a398-d8cff33b9527",
        "colab": {
          "base_uri": "https://localhost:8080/",
          "height": 119
        }
      },
      "source": [
        "# Separate parameters\n",
        "X = np.asarray(df[['WEATHER', 'ROADCOND', 'LIGHTCOND', 'UNDERINFL', 'ADDRTYPE']])\n",
        "y = np.asarray(df['SEVERITYCODE'])\n",
        "print (X[0:5])\n",
        "print (y [0:5])"
      ],
      "execution_count": 100,
      "outputs": [
        {
          "output_type": "stream",
          "text": [
            "[[4 8 5 2 2]\n",
            " [6 8 2 0 1]\n",
            " [4 0 5 0 1]\n",
            " [1 0 5 2 1]\n",
            " [6 8 5 0 2]]\n",
            "[2 1 1 1 2]\n"
          ],
          "name": "stdout"
        }
      ]
    },
    {
      "cell_type": "code",
      "metadata": {
        "id": "ox6pZ7BjbxW6",
        "outputId": "a89e4f1a-1829-4a92-d850-a89b1d56f8c1",
        "colab": {
          "base_uri": "https://localhost:8080/",
          "height": 102
        }
      },
      "source": [
        "# Data normalization\n",
        "from sklearn import preprocessing\n",
        "X = preprocessing.StandardScaler().fit(X).transform(X)\n",
        "X[0:5]"
      ],
      "execution_count": 101,
      "outputs": [
        {
          "output_type": "execute_result",
          "data": {
            "text/plain": [
              "array([[ 0.34206956,  1.50722693,  0.34496947,  0.80962405,  1.39942178],\n",
              "       [ 1.04697121,  1.50722693, -1.42641774, -1.16475782, -0.69049979],\n",
              "       [ 0.34206956, -0.69828325,  0.34496947, -1.16475782, -0.69049979],\n",
              "       [-0.71528292, -0.69828325,  0.34496947,  0.80962405, -0.69049979],\n",
              "       [ 1.04697121,  1.50722693,  0.34496947, -1.16475782,  1.39942178]])"
            ]
          },
          "metadata": {
            "tags": []
          },
          "execution_count": 101
        }
      ]
    },
    {
      "cell_type": "code",
      "metadata": {
        "id": "Z4xez8tQb2yF",
        "outputId": "f3b68fb4-1d35-4793-d892-ec3c796e4cba",
        "colab": {
          "base_uri": "https://localhost:8080/",
          "height": 51
        }
      },
      "source": [
        "# Train and Test datasets\n",
        "from sklearn.model_selection import train_test_split\n",
        "X_train, X_test, y_train, y_test = train_test_split( X, y, test_size=0.25, random_state=3)\n",
        "print ('Train set:', X_train.shape,  y_train.shape)\n",
        "print ('Test set:', X_test.shape,  y_test.shape)"
      ],
      "execution_count": 102,
      "outputs": [
        {
          "output_type": "stream",
          "text": [
            "Train set: (146004, 5) (146004,)\n",
            "Test set: (48669, 5) (48669,)\n"
          ],
          "name": "stdout"
        }
      ]
    },
    {
      "cell_type": "markdown",
      "metadata": {
        "id": "pCk1JFJYdYvd"
      },
      "source": [
        "**Logistic Regression Model**"
      ]
    },
    {
      "cell_type": "code",
      "metadata": {
        "id": "oO5izq7Jb3Cm",
        "outputId": "ff22b047-cb39-43b3-8a9b-bd7cefb2beee",
        "colab": {
          "base_uri": "https://localhost:8080/",
          "height": 102
        }
      },
      "source": [
        "from sklearn.linear_model import LogisticRegression\n",
        "from sklearn.metrics import confusion_matrix\n",
        "LR = LogisticRegression(C=0.1, solver='lbfgs', max_iter=200).fit(X_train,y_train)\n",
        "LR"
      ],
      "execution_count": 103,
      "outputs": [
        {
          "output_type": "execute_result",
          "data": {
            "text/plain": [
              "LogisticRegression(C=0.1, class_weight=None, dual=False, fit_intercept=True,\n",
              "                   intercept_scaling=1, l1_ratio=None, max_iter=200,\n",
              "                   multi_class='auto', n_jobs=None, penalty='l2',\n",
              "                   random_state=None, solver='lbfgs', tol=0.0001, verbose=0,\n",
              "                   warm_start=False)"
            ]
          },
          "metadata": {
            "tags": []
          },
          "execution_count": 103
        }
      ]
    },
    {
      "cell_type": "code",
      "metadata": {
        "id": "WIXsXoPRb28_"
      },
      "source": [
        "yhat = LR.predict(X_test)\n",
        "yhat_prob = LR.predict_proba(X_test)"
      ],
      "execution_count": 104,
      "outputs": []
    },
    {
      "cell_type": "markdown",
      "metadata": {
        "id": "ztfae1udd34M"
      },
      "source": [
        "**Validation**"
      ]
    },
    {
      "cell_type": "code",
      "metadata": {
        "id": "srlatYJIcIQm",
        "outputId": "2f4e052f-2b3c-4465-b4b6-eb3aa4da3192",
        "colab": {
          "base_uri": "https://localhost:8080/",
          "height": 105
        }
      },
      "source": [
        "from sklearn.metrics import jaccard_similarity_score\n",
        "from sklearn.metrics import log_loss\n",
        "\n",
        "val_jac = jaccard_similarity_score(y_test, yhat)\n",
        "val_log = log_loss(y_test, yhat_prob)\n",
        "\n",
        "print (\"Jaccard Similarity:\", val_jac)\n",
        "print (\"Log Loss:\", val_log)"
      ],
      "execution_count": 105,
      "outputs": [
        {
          "output_type": "stream",
          "text": [
            "Jaccard Similarity: 0.6979596868643284\n",
            "Log Loss: 0.585714398873718\n"
          ],
          "name": "stdout"
        },
        {
          "output_type": "stream",
          "text": [
            "/usr/local/lib/python3.6/dist-packages/sklearn/metrics/_classification.py:664: FutureWarning: jaccard_similarity_score has been deprecated and replaced with jaccard_score. It will be removed in version 0.23. This implementation has surprising behavior for binary and multiclass classification tasks.\n",
            "  FutureWarning)\n"
          ],
          "name": "stderr"
        }
      ]
    }
  ]
}